{
 "cells": [
  {
   "cell_type": "markdown",
   "metadata": {},
   "source": [
    "- Bir el yazısı tanıma uygulaması yapacağız.\n",
    "\n",
    "- Projeyi uygularken izleyeceğimiz adımlar:\n",
    "    - İş Problemi\n",
    "    - Veriyi Anlamak\n",
    "    - Veriyi Hazırlamak\n",
    "    - Modelleme\n",
    "    - Değerlendirme"
   ]
  }
 ],
 "metadata": {
  "language_info": {
   "name": "python"
  }
 },
 "nbformat": 4,
 "nbformat_minor": 2
}
